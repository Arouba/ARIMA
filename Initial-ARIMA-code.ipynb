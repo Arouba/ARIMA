{
    "cells": [
        {
            "cell_type": "code",
            "execution_count": null,
            "source": [
                "# Import libraries\n",
                "import warnings\n",
                "import itertools\n",
                "import pandas as pd\n",
                "import numpy as np\n",
                "import matplotlib.pyplot as plt\n",
                "import statsmodels.api as sm"
            ],
            "outputs": [],
            "metadata": {}
        },
        {
            "cell_type": "code",
            "execution_count": null,
            "source": [
                "# Defaults\n",
                "plt.rcParams['figure.figsize'] = (20.0, 10.0)\n",
                "plt.rcParams.update({'font.size': 12})\n",
                "plt.style.use('ggplot')"
            ],
            "outputs": [],
            "metadata": {}
        },
        {
            "cell_type": "code",
            "execution_count": null,
            "source": [
                "# Load the data\n",
                "data = pd.read_csv('xxx.csv', engine='p', skipfooter=3)\n",
                "# pre-processing if needed\n",
                "data['Month']=pd.to_datetime(data['Month'], format='%Y-%m-%d')\n",
                "data.set_index(['Month'], inplace=True)\n",
                "\n",
                "# Plot the data\n",
                "data.plot()\n",
                "plt.ylabel('y')\n",
                "plt.xlabel('xdate')\n",
                "plt.show()"
            ],
            "outputs": [],
            "metadata": {}
        },
        {
            "cell_type": "code",
            "execution_count": null,
            "source": [
                "# Define the d and q parameters to take any value between 0 and 1\n",
                "q = d = range(0, 2)\n",
                "# Define the p parameters to take any value between 0 and 3\n",
                "p = range(0, 4)\n",
                "\n",
                "# Generate all different combinations of p, q and q triplets\n",
                "pdq = list(itertools.product(p, d, q))\n",
                "\n",
                "# Grid Search / Hyperparameter Optimization for Model selection - be able to pick up the smallest AIC Value. \n",
                "# Generate all different combinations of seasonal p, q and q\n",
                "seasonal_pdq = [(x[0], x[1], x[2], 12) for x in list(itertools.product(p, d, q))]\n",
                "\n",
                "# SARIMAX returns the AIC Value\n",
                "print('Examples of parameter combinations for Seasonal ARIMA...')\n",
                "print('SARIMAX: {} x {}'.format(pdq[1], seasonal_pdq[1]))\n",
                "print('SARIMAX: {} x {}'.format(pdq[1], seasonal_pdq[2]))\n",
                "print('SARIMAX: {} x {}'.format(pdq[2], seasonal_pdq[3]))\n",
                "print('SARIMAX: {} x {}'.format(pdq[2], seasonal_pdq[4]))"
            ],
            "outputs": [],
            "metadata": {}
        }
    ],
    "metadata": {
        "orig_nbformat": 4,
        "language_info": {
            "name": "python",
            "version": "3.9.1",
            "mimetype": "text/x-python",
            "codemirror_mode": {
                "name": "ipython",
                "version": 3
            },
            "pygments_lexer": "ipython3",
            "nbconvert_exporter": "python",
            "file_extension": ".py"
        },
        "kernelspec": {
            "name": "python3",
            "display_name": "Python 3.9.1 64-bit ('base': conda)"
        },
        "interpreter": {
            "hash": "7ebc4831230ab089c84145cf80a99cf3b64364336e2f857a3b32dd1c985847a6"
        }
    },
    "nbformat": 4,
    "nbformat_minor": 2
}