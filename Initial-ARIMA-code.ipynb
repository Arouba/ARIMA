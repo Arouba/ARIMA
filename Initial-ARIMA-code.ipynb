{
    "cells": [
        {
            "cell_type": "code",
            "execution_count": null,
            "source": [
                "# Import libraries\n",
                "import warnings\n",
                "import itertools\n",
                "import pandas as pd\n",
                "import numpy as np\n",
                "import matplotlib.pyplot as plt\n",
                "import statsmodels.api as sm"
            ],
            "outputs": [],
            "metadata": {}
        },
        {
            "cell_type": "code",
            "execution_count": null,
            "source": [
                "# Defaults\n",
                "plt.rcParams['figure.figsize'] = (20.0, 10.0)\n",
                "plt.rcParams.update({'font.size': 12})\n",
                "plt.style.use('ggplot')"
            ],
            "outputs": [],
            "metadata": {}
        },
        {
            "cell_type": "code",
            "execution_count": null,
            "source": [
                "# Load data\n",
                "data = pd.read_csv('Monthly-car-sales.csv', engine='python', skipfooter=3)\n",
                "# pre-processing\n",
                "data['Month']=pd.to_datetime(data['Month'], format='%Y-%m-%d')\n",
                "data.set_index(['Month'], inplace=True)\n",
                "\n",
                "# Plot data\n",
                "data.plot()\n",
                "plt.title('Monthly Car Sales')\n",
                "plt.ylabel('Sales')\n",
                "plt.xlabel('Date')\n",
                "plt.show()"
            ],
            "outputs": [],
            "metadata": {}
        },
        {
            "cell_type": "code",
            "execution_count": null,
            "source": [
                "# Define the d and q parameters to take any value between 0 and 1\n",
                "q = d = range(0, 2)\n",
                "# Define the p parameters to take any value between 0 and 3\n",
                "p = range(0, 4)\n",
                "\n",
                "# Generate all different combinations of p, q and q triplets\n",
                "pdq = list(itertools.product(p, d, q))\n",
                "\n",
                "# Grid Search / Hyperparameter Optimization for Model selection - be able to pick up the smallest AIC Value. \n",
                "# Generate all different combinations of seasonal p, q and q\n",
                "seasonal_pdq = [(x[0], x[1], x[2], 12) for x in list(itertools.product(p, d, q))]\n",
                "\n",
                "# SARIMAX returns the AIC Value\n",
                "print('Examples of parameter combinations for Seasonal ARIMA...')\n",
                "print('SARIMAX: {} x {}'.format(pdq[1], seasonal_pdq[1]))\n",
                "print('SARIMAX: {} x {}'.format(pdq[1], seasonal_pdq[2]))\n",
                "print('SARIMAX: {} x {}'.format(pdq[2], seasonal_pdq[3]))\n",
                "print('SARIMAX: {} x {}'.format(pdq[2], seasonal_pdq[4]))"
            ],
            "outputs": [],
            "metadata": {}
        },
        {
            "cell_type": "code",
            "execution_count": null,
            "source": [
                "# Train the data and predict the last year\n",
                "training_data = data['1960-01-01':'1967-12-01']\n",
                "test_data = data['1968-01-01':'1968-12-01']"
            ],
            "outputs": [],
            "metadata": {}
        },
        {
            "cell_type": "code",
            "execution_count": null,
            "source": [
                "data"
            ],
            "outputs": [],
            "metadata": {}
        },
        {
            "cell_type": "code",
            "execution_count": null,
            "source": [
                "# Ignore warning messages\n",
                "warnings.filterwarnings(\"ignore\")\n",
                "\n",
                "# Generate an AIC Value\n",
                "AIC = []\n",
                "SARIMAX_model = []\n",
                "for param in pdq:\n",
                "    for param_seasonal in seasonal_pdq:\n",
                "        try:\n",
                "            mod = sm.tsa.statespace.SARIMAX(training_data,\n",
                "                                            order=param,\n",
                "                                            seasonal_order=param_seasonal,\n",
                "                                            enforce_stationarity=False,\n",
                "                                            enforce_invertibility=False)\n",
                "\n",
                "            results = mod.fit()\n",
                "\n",
                "            print('SARIMAX{}x{} - AIC:{}'.format(param, param_seasonal, results.aic), end='\\r')\n",
                "            AIC.append(results.aic)\n",
                "            SARIMAX_model.append([param, param_seasonal])\n",
                "        except:\n",
                "            continue\n",
                "results"
            ],
            "outputs": [],
            "metadata": {}
        },
        {
            "cell_type": "code",
            "execution_count": null,
            "source": [
                "mod = sm.tsa.statespace.SARIMAX(training_data,\n",
                "                                order=param,\n",
                "                                seasonal_order=param_seasonal,\n",
                "                                enforce_stationarity=False,\n",
                "                                enforce_invertibility=False)\n",
                "\n",
                "results = mod.fit()\n",
                "\n",
                "print('SARIMAX{}x{} - AIC:{}'.format(param, param_seasonal, results.aic), end='\\r')\n",
                "AIC.append(results.aic)\n",
                "SARIMAX_model.append([param, param_seasonal])"
            ],
            "outputs": [],
            "metadata": {}
        },
        {
            "cell_type": "code",
            "execution_count": null,
            "source": [
                "# AIC Value?\n",
                "mod"
            ],
            "outputs": [],
            "metadata": {}
        },
        {
            "cell_type": "code",
            "execution_count": null,
            "source": [
                "print('The smallest AIC is {} for model SARIMAX{}x{}'.format(min(AIC), SARIMAX_model[AIC.index(min(AIC))][0],SARIMAX_model[AIC.index(min(AIC))][1]))"
            ],
            "outputs": [],
            "metadata": {}
        },
        {
            "cell_type": "code",
            "execution_count": null,
            "source": [
                "# Fit the model\n",
                "mod = sm.tsa.statespace.SARIMAX(training_data,\n",
                "                                order=SARIMAX_model[AIC.index(min(AIC))][0],\n",
                "                                seasonal_order=SARIMAX_model[AIC.index(min(AIC))][1],\n",
                "                                enforce_stationarity=False,\n",
                "                                enforce_invertibility=False)\n",
                "\n",
                "results = mod.fit()"
            ],
            "outputs": [],
            "metadata": {}
        },
        {
            "cell_type": "code",
            "execution_count": null,
            "source": [
                "# Use plot diagnostics to check if it meets our expecatations\n",
                "results.plot_diagnostics(figsize=(20, 14))\n",
                "plt.show()"
            ],
            "outputs": [],
            "metadata": {}
        },
        {
            "cell_type": "code",
            "execution_count": null,
            "source": [
                "# Results (TRIAL): 3 types of forecasting"
            ],
            "outputs": [],
            "metadata": {}
        },
        {
            "cell_type": "code",
            "execution_count": null,
            "source": [
                "# Sample prediction with 1-step ahead forecasting of the last year 1967 \n",
                "# Model is asked to predict data using existing data \n",
                "\n",
                "pred0 = results.get_prediction(start='1966-01-01', dynamic=False)\n",
                "pred0_ci = pred0.conf_int()"
            ],
            "outputs": [],
            "metadata": {}
        },
        {
            "cell_type": "code",
            "execution_count": null,
            "source": [
                "# Sample prediction with dynamic forecasting of the last year 1967\n",
                "# Model is asked to predict data using existing data \n",
                "\n",
                "pred1 = results.get_prediction(start='1966-01-01', dynamic=True)\n",
                "pred1_ci = pred1.conf_int()"
            ],
            "outputs": [],
            "metadata": {}
        },
        {
            "cell_type": "code",
            "execution_count": null,
            "source": [
                "# True forecasting \n",
                "# Model is asked to predict data its not seen before \n",
                "\n",
                "pred2 = results.get_forecast('1970-12-01')\n",
                "pred2_ci = pred2.conf_int()\n",
                "print(pred2.predicted_mean['1968-01-01':'1968-12-01'])"
            ],
            "outputs": [],
            "metadata": {}
        },
        {
            "cell_type": "code",
            "execution_count": null,
            "source": [
                "# Plot all data\n",
                "\n",
                "ax = data.plot(figsize=(25, 16))\n",
                "pred0.predicted_mean.plot(ax=ax, label='1-step-ahead Forecast (get_predictions, dynamic=False)')\n",
                "pred1.predicted_mean.plot(ax=ax, label='Dynamic Forecast (get_predictions, dynamic=True)')\n",
                "pred2.predicted_mean.plot(ax=ax, label='Dynamic Forecast (get_forecast)')\n",
                "ax.fill_between(pred2_ci.index, pred2_ci.iloc[:, 0], pred2_ci.iloc[:, 1], color='k', alpha=.1)\n",
                "plt.title('Monthly Car Sales')\n",
                "plt.ylabel('Sales')\n",
                "plt.xlabel('Date')\n",
                "plt.legend()\n",
                "plt.show()"
            ],
            "outputs": [],
            "metadata": {}
        },
        {
            "cell_type": "code",
            "execution_count": null,
            "source": [],
            "outputs": [],
            "metadata": {}
        }
    ],
    "metadata": {
        "orig_nbformat": 4,
        "language_info": {
            "name": "python",
            "version": "3.9.1",
            "mimetype": "text/x-python",
            "codemirror_mode": {
                "name": "ipython",
                "version": 3
            },
            "pygments_lexer": "ipython3",
            "nbconvert_exporter": "python",
            "file_extension": ".py"
        },
        "kernelspec": {
            "name": "python3",
            "display_name": "Python 3.9.1 64-bit ('base': conda)"
        },
        "interpreter": {
            "hash": "7ebc4831230ab089c84145cf80a99cf3b64364336e2f857a3b32dd1c985847a6"
        }
    },
    "nbformat": 4,
    "nbformat_minor": 2
}